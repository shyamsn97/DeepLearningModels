{
 "cells": [
  {
   "cell_type": "code",
   "execution_count": 1,
   "metadata": {},
   "outputs": [
    {
     "name": "stderr",
     "output_type": "stream",
     "text": [
      "/home/shyam/anaconda3/envs/py36/lib/python3.6/site-packages/h5py/__init__.py:36: FutureWarning: Conversion of the second argument of issubdtype from `float` to `np.floating` is deprecated. In future, it will be treated as `np.float64 == np.dtype(float).type`.\n",
      "  from ._conv import register_converters as _register_converters\n",
      "Using TensorFlow backend.\n"
     ]
    }
   ],
   "source": [
    "import numpy as np\n",
    "import tensorflow as tf\n",
    "from keras import *\n",
    "from keras.layers import *\n",
    "from keras import backend as K\n",
    "from keras.utils import np_utils \n",
    "from keras.utils import plot_model\n",
    "from keras.utils import to_categorical\n",
    "from keras.models import *\n",
    "from keras.optimizers import SGD\n",
    "import cv2\n",
    "import glob\n",
    "import pydot\n",
    "import graphviz\n",
    "import pandas as pd\n",
    "import warnings\n",
    "warnings.filterwarnings('ignore')"
   ]
  },
  {
   "cell_type": "markdown",
   "metadata": {},
   "source": [
    "# VGG16"
   ]
  },
  {
   "cell_type": "markdown",
   "metadata": {},
   "source": [
    "## VGG16 Net implemented from scratch with Keras\n",
    "## based on the paper: Very Deep Convolutional Networks for Large-Scale Image Recognition\n",
    "\n",
    "## https://arxiv.org/abs/1409.1556\n"
   ]
  },
  {
   "cell_type": "markdown",
   "metadata": {},
   "source": [
    "### The data is from a dataset of flower images, with 10 different classes or types of flowers. We will resize the images to be 224x224x3"
   ]
  },
  {
   "cell_type": "code",
   "execution_count": 2,
   "metadata": {},
   "outputs": [],
   "source": [
    "data = pd.read_csv(\"data/flower_images/flower_labels.csv\")\n",
    "data[\"file\"] = \"data/flower_images/\" + data[\"file\"]\n",
    "X = np.array(data.iloc(1)[0])\n",
    "y = np.array(data.iloc(1)[1])"
   ]
  },
  {
   "cell_type": "code",
   "execution_count": 3,
   "metadata": {},
   "outputs": [],
   "source": [
    "def cross_val_split_set(X,portion,y=None):\n",
    "    '''\n",
    "    use:\n",
    "        X = iris.data\n",
    "        y = iris.target\n",
    "        X_train, X_test, y_train, y_test = split_set(X,0.1,y) for 10% used as test set\n",
    "    '''\n",
    "    X = np.array(X)\n",
    "    y = np.array(y)\n",
    "    size = int(X.shape[0]*portion)\n",
    "    indexlist = np.arange(X.shape[0])\n",
    "    testinds = np.random.choice(indexlist, size, replace=False)\n",
    "    traininds = np.array([x for x in range(X.shape[0]) if x not in testinds])  \n",
    "    if np.all(y == None):\n",
    "        return X[traininds],X[testinds]\n",
    "    else:\n",
    "        return X[traininds],X[testinds],y[traininds],y[testinds]\n",
    "\n",
    "X_train, X_test, y_train, y_test = cross_val_split_set(X,0.1,y)"
   ]
  },
  {
   "cell_type": "code",
   "execution_count": 4,
   "metadata": {},
   "outputs": [],
   "source": [
    "y_train = y_train.reshape(y_train.shape[0],1)\n",
    "y_test = y_test.reshape(y_test.shape[0],1)"
   ]
  },
  {
   "cell_type": "code",
   "execution_count": 5,
   "metadata": {},
   "outputs": [],
   "source": [
    "def preprocess(path,length,width):\n",
    "    img = cv2.imread(path)\n",
    "    img = np.asfarray(cv2.resize(img,(length, width)))\n",
    "    return img/255.0\n",
    "\n",
    "def read_bulk(paths):\n",
    "    result = []\n",
    "    for i in paths:\n",
    "        result.append(preprocess(i,224,224))\n",
    "    return np.array(result)\n",
    "\n",
    "result = read_bulk(X_train)"
   ]
  },
  {
   "cell_type": "code",
   "execution_count": 6,
   "metadata": {},
   "outputs": [],
   "source": [
    "class VGG16():\n",
    "    \"\"\"\n",
    "    VGG16 net implemented with keras\n",
    "    introduced in the paper \"Very Deep Convolutional Networks for Large-Scale Image Recognition\"\n",
    "    https://arxiv.org/abs/1409.1556\n",
    "    \"\"\"\n",
    "    def __init__(self,X,y,weights=\"None\"):\n",
    "        \n",
    "        self.X = X\n",
    "        self.y = to_categorical(y)\n",
    "                \n",
    "        self.weights = weights\n",
    "        self.model = None\n",
    "        \n",
    "        if self.weights == \"None\":\n",
    "            self.initialize()\n",
    "        else:\n",
    "            self.model = load_model(weights)\n",
    "        \n",
    "    def initialize(self):\n",
    "        \n",
    "        K.clear_session()\n",
    "        \n",
    "        n_outputs = self.y.shape[1]\n",
    "        height = self.X.shape[1]\n",
    "        width = self.X.shape[2]\n",
    "        \n",
    "        inp = Input(shape=(height,width,3))\n",
    "        conv1 = Conv2D(64,kernel_size=3,border_mode='same',activation=\"relu\")(inp)\n",
    "        conv2 = Conv2D(64,kernel_size=3,border_mode='same',activation='relu')(conv1)\n",
    "        max1 = MaxPool2D(2,border_mode='same')(conv2)\n",
    "        dropout1 = Dropout(0.5)(max1)\n",
    "        conv3 = Conv2D(128,kernel_size=3,border_mode='same',activation='relu')(dropout1)\n",
    "        conv4 = Conv2D(128,kernel_size=3,border_mode='same',activation='relu')(conv3)\n",
    "        max2 = MaxPool2D(2,border_mode='same')(conv4)\n",
    "        dropout2 = Dropout(0.5)(max2)\n",
    "        conv5 = Conv2D(256,kernel_size=3,border_mode='same',activation='relu')(dropout2)\n",
    "        conv6 = Conv2D(256,kernel_size=3,border_mode='same',activation='relu')(conv5)\n",
    "        conv7 = Conv2D(256,kernel_size=3,border_mode='same',activation='relu')(conv6)\n",
    "        max3 = MaxPool2D(2,border_mode='same')(conv7)\n",
    "        dropout3 = Dropout(0.5)(max3)\n",
    "        conv8 = Conv2D(512,kernel_size=3,border_mode='same',activation='relu')(dropout3)\n",
    "        conv9 = Conv2D(512,kernel_size=3,border_mode='same',activation='relu')(conv8)\n",
    "        conv10 = Conv2D(512,kernel_size=3,border_mode='same',activation='relu')(conv9)\n",
    "        max4 = MaxPool2D(2,border_mode='same')(conv10)\n",
    "        dropout4 = Dropout(0.5)(max4)\n",
    "        conv11 = Conv2D(512,kernel_size=3,border_mode='same',activation='relu')(dropout4)\n",
    "        conv12 = Conv2D(512,kernel_size=3,border_mode='same',activation='relu')(conv11)\n",
    "        conv13 = Conv2D(512,kernel_size=3,border_mode='same',activation='relu')(conv12)\n",
    "        max5 = MaxPool2D(2,border_mode='same')(conv13)\n",
    "        dropout5 = Dropout(0.5)(max5)\n",
    "        flatten = Flatten()(dropout5)\n",
    "        dense1 = Dense(4096,activation='relu')(flatten)\n",
    "        dropout6 = Dropout(0.5)(dense1)\n",
    "        dense2 = Dense(4096,activation='relu')(dropout6)\n",
    "        dropout7 = Dropout(0.5)(dense2)\n",
    "        dense3 = Dense(n_outputs,activation='relu')(dropout7)\n",
    "        dropout8 = Dropout(0.5)(dense3)\n",
    "        softmax = Softmax(n_outputs)(dropout8)\n",
    "        \n",
    "        model = Model(inputs=inp,outputs=softmax)\n",
    "        model.compile(loss='categorical_crossentropy',optimizer=\"adam\",metrics=['accuracy'])\n",
    "        self.model = model\n",
    "        print(self.model.summary())\n",
    "        \n",
    "    def save_picture(self,filename):\n",
    "        plot_model(self.model, to_file=filename)\n",
    "        \n",
    "    def train(self,epochs):\n",
    "\n",
    "        self.model.fit(self.X, self.y ,validation_split=0.1, epochs=epochs,verbose=1)\n",
    "        self.model.save('saved_models/VGG16.h5')\n",
    "        loss, acc = self.model.evaluate(self.X, self.y, verbose=0)\n",
    "        print('Train Accuracy: %f' % (acc*100))\n",
    "        \n",
    "    def predict(self,X):\n",
    "        \n",
    "        if len(X.shape) == 3:\n",
    "            X = X.reshape(1,X.shape[0],X.shape[1],X.shape[2])\n",
    "        predictions = self.model.predict(X)\n",
    "        return np.argmax(predictions)\n",
    "        "
   ]
  },
  {
   "cell_type": "code",
   "execution_count": 7,
   "metadata": {},
   "outputs": [
    {
     "name": "stdout",
     "output_type": "stream",
     "text": [
      "_________________________________________________________________\n",
      "Layer (type)                 Output Shape              Param #   \n",
      "=================================================================\n",
      "input_1 (InputLayer)         (None, 224, 224, 3)       0         \n",
      "_________________________________________________________________\n",
      "conv2d_1 (Conv2D)            (None, 224, 224, 64)      1792      \n",
      "_________________________________________________________________\n",
      "conv2d_2 (Conv2D)            (None, 224, 224, 64)      36928     \n",
      "_________________________________________________________________\n",
      "max_pooling2d_1 (MaxPooling2 (None, 112, 112, 64)      0         \n",
      "_________________________________________________________________\n",
      "dropout_1 (Dropout)          (None, 112, 112, 64)      0         \n",
      "_________________________________________________________________\n",
      "conv2d_3 (Conv2D)            (None, 112, 112, 128)     73856     \n",
      "_________________________________________________________________\n",
      "conv2d_4 (Conv2D)            (None, 112, 112, 128)     147584    \n",
      "_________________________________________________________________\n",
      "max_pooling2d_2 (MaxPooling2 (None, 56, 56, 128)       0         \n",
      "_________________________________________________________________\n",
      "dropout_2 (Dropout)          (None, 56, 56, 128)       0         \n",
      "_________________________________________________________________\n",
      "conv2d_5 (Conv2D)            (None, 56, 56, 256)       295168    \n",
      "_________________________________________________________________\n",
      "conv2d_6 (Conv2D)            (None, 56, 56, 256)       590080    \n",
      "_________________________________________________________________\n",
      "conv2d_7 (Conv2D)            (None, 56, 56, 256)       590080    \n",
      "_________________________________________________________________\n",
      "max_pooling2d_3 (MaxPooling2 (None, 28, 28, 256)       0         \n",
      "_________________________________________________________________\n",
      "dropout_3 (Dropout)          (None, 28, 28, 256)       0         \n",
      "_________________________________________________________________\n",
      "conv2d_8 (Conv2D)            (None, 28, 28, 512)       1180160   \n",
      "_________________________________________________________________\n",
      "conv2d_9 (Conv2D)            (None, 28, 28, 512)       2359808   \n",
      "_________________________________________________________________\n",
      "conv2d_10 (Conv2D)           (None, 28, 28, 512)       2359808   \n",
      "_________________________________________________________________\n",
      "max_pooling2d_4 (MaxPooling2 (None, 14, 14, 512)       0         \n",
      "_________________________________________________________________\n",
      "dropout_4 (Dropout)          (None, 14, 14, 512)       0         \n",
      "_________________________________________________________________\n",
      "conv2d_11 (Conv2D)           (None, 14, 14, 512)       2359808   \n",
      "_________________________________________________________________\n",
      "conv2d_12 (Conv2D)           (None, 14, 14, 512)       2359808   \n",
      "_________________________________________________________________\n",
      "conv2d_13 (Conv2D)           (None, 14, 14, 512)       2359808   \n",
      "_________________________________________________________________\n",
      "max_pooling2d_5 (MaxPooling2 (None, 7, 7, 512)         0         \n",
      "_________________________________________________________________\n",
      "dropout_5 (Dropout)          (None, 7, 7, 512)         0         \n",
      "_________________________________________________________________\n",
      "flatten_1 (Flatten)          (None, 25088)             0         \n",
      "_________________________________________________________________\n",
      "dense_1 (Dense)              (None, 4096)              102764544 \n",
      "_________________________________________________________________\n",
      "dropout_6 (Dropout)          (None, 4096)              0         \n",
      "_________________________________________________________________\n",
      "dense_2 (Dense)              (None, 4096)              16781312  \n",
      "_________________________________________________________________\n",
      "dropout_7 (Dropout)          (None, 4096)              0         \n",
      "_________________________________________________________________\n",
      "dense_3 (Dense)              (None, 10)                40970     \n",
      "_________________________________________________________________\n",
      "dropout_8 (Dropout)          (None, 10)                0         \n",
      "_________________________________________________________________\n",
      "softmax_1 (Softmax)          (None, 10)                0         \n",
      "=================================================================\n",
      "Total params: 134,301,514\n",
      "Trainable params: 134,301,514\n",
      "Non-trainable params: 0\n",
      "_________________________________________________________________\n",
      "None\n"
     ]
    }
   ],
   "source": [
    "vgg16 = VGG16(result,y_train)"
   ]
  },
  {
   "cell_type": "code",
   "execution_count": 35,
   "metadata": {},
   "outputs": [],
   "source": [
    "vgg16.save_picture(\"../model_images/VGG16.png\")"
   ]
  },
  {
   "cell_type": "code",
   "execution_count": null,
   "metadata": {},
   "outputs": [
    {
     "name": "stdout",
     "output_type": "stream",
     "text": [
      "Train on 170 samples, validate on 19 samples\n",
      "Epoch 1/2\n",
      "128/170 [=====================>........] - ETA: 7:30 - loss: 3.5123 - acc: 0.0703 "
     ]
    }
   ],
   "source": [
    "vgg16.train(2)"
   ]
  }
 ],
 "metadata": {
  "kernelspec": {
   "display_name": "Python 3",
   "language": "python",
   "name": "python3"
  },
  "language_info": {
   "codemirror_mode": {
    "name": "ipython",
    "version": 3
   },
   "file_extension": ".py",
   "mimetype": "text/x-python",
   "name": "python",
   "nbconvert_exporter": "python",
   "pygments_lexer": "ipython3",
   "version": "3.6.5"
  }
 },
 "nbformat": 4,
 "nbformat_minor": 2
}
