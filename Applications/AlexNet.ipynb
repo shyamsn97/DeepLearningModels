{
 "cells": [
  {
   "cell_type": "code",
   "execution_count": 1,
   "metadata": {},
   "outputs": [
    {
     "name": "stderr",
     "output_type": "stream",
     "text": [
      "/home/shyam/anaconda3/envs/py36/lib/python3.6/site-packages/h5py/__init__.py:36: FutureWarning: Conversion of the second argument of issubdtype from `float` to `np.floating` is deprecated. In future, it will be treated as `np.float64 == np.dtype(float).type`.\n",
      "  from ._conv import register_converters as _register_converters\n",
      "Using TensorFlow backend.\n"
     ]
    }
   ],
   "source": [
    "import numpy as np\n",
    "import tensorflow as tf\n",
    "from keras import *\n",
    "from keras.layers import *\n",
    "from keras import backend as K\n",
    "from keras.utils import np_utils \n",
    "from keras.utils import plot_model\n",
    "from keras.utils import to_categorical\n",
    "from keras.models import *\n",
    "from keras.optimizers import SGD\n",
    "import cv2\n",
    "import glob\n",
    "import pydot\n",
    "import graphviz\n",
    "import pandas as pd\n",
    "import warnings\n",
    "warnings.filterwarnings('ignore')"
   ]
  },
  {
   "cell_type": "markdown",
   "metadata": {},
   "source": [
    "# AlexNet"
   ]
  },
  {
   "cell_type": "markdown",
   "metadata": {},
   "source": [
    "## AlexNet implemented from scratch with Keras\n",
    "## based on the paper: ImageNet Classification with Deep Convolutional Neural Networks\n",
    "\n",
    "## https://www.nvidia.cn/content/tesla/pdf/machine-learning/imagenet-classification-with-deep-convolutional-nn.pdf\n"
   ]
  },
  {
   "cell_type": "markdown",
   "metadata": {},
   "source": [
    "### The data is from a dataset of flower images, with 10 different classes or types of flowers. We will resize the images to be 224x224x3"
   ]
  },
  {
   "cell_type": "code",
   "execution_count": 8,
   "metadata": {},
   "outputs": [],
   "source": [
    "data = pd.read_csv(\"data/flower_images/flower_labels.csv\")\n",
    "data[\"file\"] = \"data/flower_images/\" + data[\"file\"]\n",
    "X = np.array(data.iloc(1)[0])\n",
    "y = np.array(data.iloc(1)[1])"
   ]
  },
  {
   "cell_type": "code",
   "execution_count": 9,
   "metadata": {},
   "outputs": [],
   "source": [
    "def cross_val_split_set(X,portion,y=None):\n",
    "    '''\n",
    "    use:\n",
    "        X = iris.data\n",
    "        y = iris.target\n",
    "        X_train, X_test, y_train, y_test = split_set(X,0.1,y) for 10% used as test set\n",
    "    '''\n",
    "    X = np.array(X)\n",
    "    y = np.array(y)\n",
    "    size = int(X.shape[0]*portion)\n",
    "    indexlist = np.arange(X.shape[0])\n",
    "    testinds = np.random.choice(indexlist, size, replace=False)\n",
    "    traininds = np.array([x for x in range(X.shape[0]) if x not in testinds])  \n",
    "    if np.all(y == None):\n",
    "        return X[traininds],X[testinds]\n",
    "    else:\n",
    "        return X[traininds],X[testinds],y[traininds],y[testinds]\n",
    "\n",
    "X_train, X_test, y_train, y_test = cross_val_split_set(X,0.1,y)"
   ]
  },
  {
   "cell_type": "code",
   "execution_count": 10,
   "metadata": {},
   "outputs": [],
   "source": [
    "y_train = y_train.reshape(y_train.shape[0],1)\n",
    "y_test = y_test.reshape(y_test.shape[0],1)"
   ]
  },
  {
   "cell_type": "code",
   "execution_count": 11,
   "metadata": {},
   "outputs": [],
   "source": [
    "def preprocess(path,length,width):\n",
    "    img = cv2.imread(path)\n",
    "    img = np.asfarray(cv2.resize(img,(length, width)))\n",
    "    return img/255.0\n",
    "\n",
    "def read_bulk(paths):\n",
    "    result = []\n",
    "    for i in paths:\n",
    "        result.append(preprocess(i,227,227))\n",
    "    return np.array(result)\n",
    "\n",
    "result = read_bulk(X_train)"
   ]
  },
  {
   "cell_type": "code",
   "execution_count": 42,
   "metadata": {},
   "outputs": [],
   "source": [
    "class AlexNet():\n",
    "    \"\"\"\n",
    "    AlexNet implemented with Keras\n",
    "    introduced in the paper \"ImageNet Classification with Deep Convolutional Neural Networks\"\n",
    "    https://www.nvidia.cn/content/tesla/pdf/machine-learning/imagenet-classification-with-deep-convolutional-nn.pdf\n",
    "    takes in images with dimensions 227x227x3\n",
    "    Parameters:\n",
    "        X: numpy array data matrix of image pixel intensities\n",
    "        y: numpy array of labels, to_categorical changes it to a sparse binary matrix\n",
    "        weights: name of file that denotes weights to load in\n",
    "    \"\"\"\n",
    "    def __init__(self,X,y,weights=\"None\"):\n",
    "        \n",
    "        self.X = X\n",
    "        self.y = to_categorical(y)\n",
    "                \n",
    "        self.weights = weights\n",
    "        self.model = None\n",
    "        \n",
    "        if self.weights == \"None\":\n",
    "            self.initialize()\n",
    "        else:\n",
    "            self.model = load_model(weights)\n",
    "        \n",
    "    def initialize(self):\n",
    "        \n",
    "        K.clear_session()\n",
    "        \n",
    "        n_outputs = self.y.shape[1]\n",
    "        height = self.X.shape[1]\n",
    "        width = self.X.shape[2]\n",
    "        \n",
    "        inp = Input(shape=(height,width,3))\n",
    "        conv1 = Conv2D(96,kernel_size=11,strides=4,border_mode='valid',activation='relu')(inp)\n",
    "        max1 = MaxPool2D(3,strides=2,border_mode='same')(conv1)\n",
    "        dropout1 = Dropout(0.5)(max1)\n",
    "        normal1 = BatchNormalization()(dropout1)\n",
    "        conv2 = Conv2D(256,kernel_size=5,border_mode='same')(normal1)\n",
    "        max2 = MaxPool2D(3,strides=2,border_mode='same')(conv2)\n",
    "        dropout2 = Dropout(0.5)(max2)\n",
    "        normal2 = BatchNormalization()(dropout2)\n",
    "        conv3 = Conv2D(384,kernel_size=3,border_mode='same')(normal2)\n",
    "        conv4 = Conv2D(384,kernel_size=3,border_mode='same')(conv3)\n",
    "        conv5 = Conv2D(256,kernel_size=5,border_mode='same')(conv4)\n",
    "        max3 = MaxPool2D(3,strides=2,border_mode='same')(conv5)\n",
    "        dropout3 = Dropout(0.5)(max3)\n",
    "        flatten = Flatten()(dropout3)\n",
    "        dense1 = Dense(4096,activation=\"relu\")(flatten)\n",
    "        dropout4 = Dropout(0.5)(dense1)\n",
    "        dense2 = Dense(4096,activation=\"relu\")(dropout4)\n",
    "        dropout5 = Dropout(0.5)(dense2)\n",
    "        dense3 = Dense(n_outputs,activation=\"softmax\")(dropout5)\n",
    "        dropout6 = Dropout(0.5)(dense3)\n",
    "        softmax = Sxoftmax(n_outputs)(dropout6)\n",
    "        \n",
    "        model = Model(inputs=inp,outputs=softmax)\n",
    "        model.compile(loss='categorical_crossentropy',optimizer=\"adam\",metrics=['accuracy'])\n",
    "        self.model = model\n",
    "        print(self.model.summary())\n",
    "        \n",
    "    def save_picture(self,filename):\n",
    "        plot_model(self.model, to_file=filename)\n",
    "        \n",
    "    def train(self,epochs):\n",
    "\n",
    "        self.model.fit(self.X, self.y ,validation_split=0.1, epochs=epochs,verbose=1)\n",
    "        self.model.save('saved_models/AlexNet.h5')\n",
    "        loss, acc = self.model.evaluate(self.X, self.y, verbose=0)\n",
    "        print('Train Accuracy: %f' % (acc*100))\n",
    "        \n",
    "    def predict(self,X):\n",
    "        \n",
    "        if len(X.shape) == 3:\n",
    "            X = X.reshape(1,X.shape[0],X.shape[1],X.shape[2])\n",
    "        predictions = self.model.predict(X)\n",
    "        return np.argmax(predictions)\n",
    "        "
   ]
  },
  {
   "cell_type": "code",
   "execution_count": 43,
   "metadata": {},
   "outputs": [
    {
     "name": "stdout",
     "output_type": "stream",
     "text": [
      "_________________________________________________________________\n",
      "Layer (type)                 Output Shape              Param #   \n",
      "=================================================================\n",
      "input_1 (InputLayer)         (None, 227, 227, 3)       0         \n",
      "_________________________________________________________________\n",
      "conv2d_1 (Conv2D)            (None, 55, 55, 96)        34944     \n",
      "_________________________________________________________________\n",
      "max_pooling2d_1 (MaxPooling2 (None, 28, 28, 96)        0         \n",
      "_________________________________________________________________\n",
      "dropout_1 (Dropout)          (None, 28, 28, 96)        0         \n",
      "_________________________________________________________________\n",
      "batch_normalization_1 (Batch (None, 28, 28, 96)        384       \n",
      "_________________________________________________________________\n",
      "conv2d_2 (Conv2D)            (None, 28, 28, 256)       614656    \n",
      "_________________________________________________________________\n",
      "max_pooling2d_2 (MaxPooling2 (None, 14, 14, 256)       0         \n",
      "_________________________________________________________________\n",
      "dropout_2 (Dropout)          (None, 14, 14, 256)       0         \n",
      "_________________________________________________________________\n",
      "batch_normalization_2 (Batch (None, 14, 14, 256)       1024      \n",
      "_________________________________________________________________\n",
      "conv2d_3 (Conv2D)            (None, 14, 14, 384)       885120    \n",
      "_________________________________________________________________\n",
      "conv2d_4 (Conv2D)            (None, 14, 14, 384)       1327488   \n",
      "_________________________________________________________________\n",
      "conv2d_5 (Conv2D)            (None, 14, 14, 256)       2457856   \n",
      "_________________________________________________________________\n",
      "max_pooling2d_3 (MaxPooling2 (None, 7, 7, 256)         0         \n",
      "_________________________________________________________________\n",
      "dropout_3 (Dropout)          (None, 7, 7, 256)         0         \n",
      "_________________________________________________________________\n",
      "flatten_1 (Flatten)          (None, 12544)             0         \n",
      "_________________________________________________________________\n",
      "dense_1 (Dense)              (None, 4096)              51384320  \n",
      "_________________________________________________________________\n",
      "dropout_4 (Dropout)          (None, 4096)              0         \n",
      "_________________________________________________________________\n",
      "dense_2 (Dense)              (None, 4096)              16781312  \n",
      "_________________________________________________________________\n",
      "dropout_5 (Dropout)          (None, 4096)              0         \n",
      "_________________________________________________________________\n",
      "dense_3 (Dense)              (None, 10)                40970     \n",
      "_________________________________________________________________\n",
      "dropout_6 (Dropout)          (None, 10)                0         \n",
      "_________________________________________________________________\n",
      "softmax_1 (Softmax)          (None, 10)                0         \n",
      "=================================================================\n",
      "Total params: 73,528,074\n",
      "Trainable params: 73,527,370\n",
      "Non-trainable params: 704\n",
      "_________________________________________________________________\n",
      "None\n"
     ]
    }
   ],
   "source": [
    "alex = AlexNet(result,y_train)"
   ]
  },
  {
   "cell_type": "code",
   "execution_count": 44,
   "metadata": {},
   "outputs": [],
   "source": [
    "alex.save_picture(\"../model_images/AlexNet.png\")"
   ]
  },
  {
   "cell_type": "code",
   "execution_count": 45,
   "metadata": {},
   "outputs": [
    {
     "name": "stdout",
     "output_type": "stream",
     "text": [
      "Train on 170 samples, validate on 19 samples\n",
      "Epoch 1/1\n",
      "170/170 [==============================] - 210s 1s/step - loss: 2.4363 - acc: 0.0941 - val_loss: 2.4612 - val_acc: 0.0000e+00\n",
      "Train Accuracy: 9.523810\n"
     ]
    }
   ],
   "source": [
    "alex.train(1)"
   ]
  },
  {
   "cell_type": "code",
   "execution_count": 46,
   "metadata": {},
   "outputs": [
    {
     "data": {
      "text/plain": [
       "0"
      ]
     },
     "execution_count": 46,
     "metadata": {},
     "output_type": "execute_result"
    }
   ],
   "source": [
    "alex.predict(result[0])"
   ]
  }
 ],
 "metadata": {
  "kernelspec": {
   "display_name": "Python 3",
   "language": "python",
   "name": "python3"
  },
  "language_info": {
   "codemirror_mode": {
    "name": "ipython",
    "version": 3
   },
   "file_extension": ".py",
   "mimetype": "text/x-python",
   "name": "python",
   "nbconvert_exporter": "python",
   "pygments_lexer": "ipython3",
   "version": "3.6.5"
  }
 },
 "nbformat": 4,
 "nbformat_minor": 2
}
