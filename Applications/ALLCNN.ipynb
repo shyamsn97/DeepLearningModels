{
 "cells": [
  {
   "cell_type": "code",
   "execution_count": 1,
   "metadata": {},
   "outputs": [
    {
     "name": "stderr",
     "output_type": "stream",
     "text": [
      "/home/shyam/anaconda3/envs/py36/lib/python3.6/site-packages/h5py/__init__.py:36: FutureWarning: Conversion of the second argument of issubdtype from `float` to `np.floating` is deprecated. In future, it will be treated as `np.float64 == np.dtype(float).type`.\n",
      "  from ._conv import register_converters as _register_converters\n",
      "Using TensorFlow backend.\n"
     ]
    }
   ],
   "source": [
    "import numpy as np\n",
    "import tensorflow as tf\n",
    "from keras import *\n",
    "from keras.layers import *\n",
    "# from keras.layers import Conv2D\n",
    "from keras import backend as K\n",
    "from keras.utils import np_utils \n",
    "from keras.utils import plot_model\n",
    "from keras.utils import to_categorical\n",
    "from keras.models import *\n",
    "from keras.optimizers import SGD\n",
    "import cv2\n",
    "import glob\n",
    "import pydot\n",
    "import graphviz\n",
    "import pandas as pd"
   ]
  },
  {
   "cell_type": "markdown",
   "metadata": {},
   "source": [
    "# All-CNN-C model"
   ]
  },
  {
   "cell_type": "markdown",
   "metadata": {},
   "source": [
    "## Modelled after the model proposed in the paper: Striving for Simplicity: The All Convolutional Net\n",
    "\n",
    "https://arxiv.org/abs/1412.6806"
   ]
  },
  {
   "cell_type": "markdown",
   "metadata": {},
   "source": [
    "### This model replaces max pooling layers with convolutional layers with stride 2. Each layer has a 3x3 kernel, effectively adding a regularization factor to the model. "
   ]
  },
  {
   "cell_type": "markdown",
   "metadata": {},
   "source": [
    "### The data is from a dataset of flower images, with 10 different classes or types of flowers. We will resize the images to be 32x32x3"
   ]
  },
  {
   "cell_type": "code",
   "execution_count": 2,
   "metadata": {},
   "outputs": [],
   "source": [
    "data = pd.read_csv(\"data/flower_images/flower_labels.csv\")\n",
    "data[\"file\"] = \"data/flower_images/\" + data[\"file\"]"
   ]
  },
  {
   "cell_type": "code",
   "execution_count": 3,
   "metadata": {},
   "outputs": [],
   "source": [
    "X = np.array(data.iloc(1)[0])"
   ]
  },
  {
   "cell_type": "code",
   "execution_count": 4,
   "metadata": {},
   "outputs": [],
   "source": [
    "y = np.array(data.iloc(1)[1])"
   ]
  },
  {
   "cell_type": "code",
   "execution_count": 5,
   "metadata": {},
   "outputs": [],
   "source": [
    "def cross_val_split_set(X,portion,y=None):\n",
    "    '''\n",
    "    use:\n",
    "        X = iris.data\n",
    "        y = iris.target\n",
    "        X_train, X_test, y_train, y_test = split_set(X,0.1,y) for 10% used as test set\n",
    "    '''\n",
    "    X = np.array(X)\n",
    "    y = np.array(y)\n",
    "    size = int(X.shape[0]*portion)\n",
    "    indexlist = np.arange(X.shape[0])\n",
    "    testinds = np.random.choice(indexlist, size, replace=False)\n",
    "    traininds = np.array([x for x in range(X.shape[0]) if x not in testinds])  \n",
    "    if np.all(y == None):\n",
    "        return X[traininds],X[testinds]\n",
    "    else:\n",
    "        return X[traininds],X[testinds],y[traininds],y[testinds]"
   ]
  },
  {
   "cell_type": "code",
   "execution_count": 6,
   "metadata": {},
   "outputs": [],
   "source": [
    "X_train, X_test, y_train, y_test = cross_val_split_set(X,0.1,y)"
   ]
  },
  {
   "cell_type": "code",
   "execution_count": 7,
   "metadata": {},
   "outputs": [],
   "source": [
    "y_train = y_train.reshape(y_train.shape[0],1)\n",
    "y_test = y_test.reshape(y_test.shape[0],1)"
   ]
  },
  {
   "cell_type": "code",
   "execution_count": 8,
   "metadata": {},
   "outputs": [],
   "source": [
    "def preprocess(path,length,width):\n",
    "    img = cv2.imread(path)\n",
    "    img = np.asfarray(cv2.resize(img,(length, width)))\n",
    "    return img/255.0\n",
    "\n",
    "def read_bulk(paths):\n",
    "    result = []\n",
    "    for i in paths:\n",
    "        result.append(preprocess(i,32,32))\n",
    "    return np.array(result)"
   ]
  },
  {
   "cell_type": "code",
   "execution_count": 9,
   "metadata": {},
   "outputs": [],
   "source": [
    "result = read_bulk(X_train)"
   ]
  },
  {
   "cell_type": "code",
   "execution_count": 29,
   "metadata": {},
   "outputs": [],
   "source": [
    "class AllCNN():\n",
    "    \"\"\"\n",
    "    All-CNN-C model introduced in the paper \"Striving for Simplicity: The All Convolutional Net\n",
    "    https://arxiv.org/abs/1412.6806\n",
    "    Replaces pooling layers with conv layers with stride 2\n",
    "    uses Global Average Pooling instead of a dense layer as well\n",
    "    Specifically used with images as input\n",
    "    Parameters:\n",
    "        X: numpy array data matrix of image pixel intensities\n",
    "        y: numpy array of labels, to_categorical changes it to a sparse binary matrix\n",
    "        weights: name of file that denotes weights to load in\n",
    "    \"\"\"\n",
    "    def __init__(self,X,y,weights=\"None\"):\n",
    "        \n",
    "        self.X = X\n",
    "        self.y = to_categorical(y)\n",
    "        \n",
    "        self.weights = weights\n",
    "        self.model = None\n",
    "        if self.weights == \"None\":\n",
    "            self.initialize()\n",
    "        else:\n",
    "            self.model = load_model(weights)\n",
    "        \n",
    "    def initialize(self):\n",
    "        \n",
    "        K.clear_session()\n",
    "\n",
    "        n_outputs = self.y.shape[1]\n",
    "        height = self.X.shape[1]\n",
    "        width = self.X.shape[2]\n",
    "                \n",
    "        inp = Input(shape=(height,width,3))\n",
    "        conv1 = Conv2D(filters=96,kernel_size=3,border_mode='same',activation=\"relu\")(inp)\n",
    "        conv2 = Conv2D(filters=96,kernel_size=3,border_mode='same',activation=\"relu\")(conv1)\n",
    "        conv3 = Conv2D(filters=96,kernel_size=3,border_mode='same',strides=2,activation=\"relu\")(conv2)\n",
    "        dropout1 = Dropout(0.5)(conv3)\n",
    "        conv4 = Conv2D(filters=192,kernel_size=3,border_mode='same',activation=\"relu\")(dropout1)\n",
    "        conv5 = Conv2D(filters=192,kernel_size=3,border_mode='same',activation=\"relu\")(conv4)\n",
    "        conv6 = Conv2D(filters=192,kernel_size=3,border_mode='same',strides=2,activation=\"relu\")(conv5)\n",
    "        dropout2 = Dropout(0.5)(conv6)\n",
    "        conv7 = Conv2D(filters=192,kernel_size=3,border_mode='same',activation=\"relu\")(dropout2)\n",
    "        conv8 = Conv2D(filters=192,kernel_size=1,border_mode='valid',activation=\"relu\")(conv7)\n",
    "        conv9 = Conv2D(filters=n_outputs,kernel_size=1,border_mode='valid',activation=\"relu\")(conv8)\n",
    "        global_averaging = GlobalAveragePooling2D()(conv9)\n",
    "        softmax = Softmax(n_outputs)(global_averaging)\n",
    "        model = Model(inputs=inp, outputs=softmax)\n",
    "        sgd = SGD(lr=0.01, decay=1e-6, momentum=0.9, nesterov=True)\n",
    "        model.compile(loss='categorical_crossentropy',optimizer=sgd,metrics=['accuracy'])\n",
    "        print(model.summary())\n",
    "        self.model = model\n",
    "        \n",
    "    def save_picture(self,filename):\n",
    "        plot_model(self.model, to_file=filename)\n",
    "        \n",
    "    def train(self,epochs):\n",
    "\n",
    "        self.model.fit(self.X, self.y ,validation_split=0.1, epochs=epochs,verbose=1)\n",
    "        self.model.save('saved_models/allcnn.h5')\n",
    "        loss, acc = self.model.evaluate(self.X, self.y, verbose=0)\n",
    "        print('Train Accuracy: %f' % (acc*100))\n",
    "        \n",
    "    def predict(self,X):\n",
    "        \n",
    "        if len(X.shape) == 3:\n",
    "            X = X.reshape(1,X.shape[0],X.shape[1],X.shape[2])\n",
    "        predictions = self.model.predict(X)\n",
    "        return np.argmax(predictions)"
   ]
  },
  {
   "cell_type": "code",
   "execution_count": 30,
   "metadata": {
    "scrolled": true
   },
   "outputs": [
    {
     "name": "stderr",
     "output_type": "stream",
     "text": [
      "/home/shyam/anaconda3/envs/py36/lib/python3.6/site-packages/ipykernel_launcher.py:34: UserWarning: Update your `Conv2D` call to the Keras 2 API: `Conv2D(filters=96, kernel_size=3, activation=\"relu\", padding=\"same\")`\n",
      "/home/shyam/anaconda3/envs/py36/lib/python3.6/site-packages/ipykernel_launcher.py:35: UserWarning: Update your `Conv2D` call to the Keras 2 API: `Conv2D(filters=96, kernel_size=3, activation=\"relu\", padding=\"same\")`\n",
      "/home/shyam/anaconda3/envs/py36/lib/python3.6/site-packages/ipykernel_launcher.py:36: UserWarning: Update your `Conv2D` call to the Keras 2 API: `Conv2D(filters=96, kernel_size=3, strides=2, activation=\"relu\", padding=\"same\")`\n",
      "/home/shyam/anaconda3/envs/py36/lib/python3.6/site-packages/ipykernel_launcher.py:38: UserWarning: Update your `Conv2D` call to the Keras 2 API: `Conv2D(filters=192, kernel_size=3, activation=\"relu\", padding=\"same\")`\n",
      "/home/shyam/anaconda3/envs/py36/lib/python3.6/site-packages/ipykernel_launcher.py:39: UserWarning: Update your `Conv2D` call to the Keras 2 API: `Conv2D(filters=192, kernel_size=3, activation=\"relu\", padding=\"same\")`\n",
      "/home/shyam/anaconda3/envs/py36/lib/python3.6/site-packages/ipykernel_launcher.py:40: UserWarning: Update your `Conv2D` call to the Keras 2 API: `Conv2D(filters=192, kernel_size=3, strides=2, activation=\"relu\", padding=\"same\")`\n",
      "/home/shyam/anaconda3/envs/py36/lib/python3.6/site-packages/ipykernel_launcher.py:42: UserWarning: Update your `Conv2D` call to the Keras 2 API: `Conv2D(filters=192, kernel_size=3, activation=\"relu\", padding=\"same\")`\n",
      "/home/shyam/anaconda3/envs/py36/lib/python3.6/site-packages/ipykernel_launcher.py:43: UserWarning: Update your `Conv2D` call to the Keras 2 API: `Conv2D(filters=192, kernel_size=1, activation=\"relu\", padding=\"valid\")`\n",
      "/home/shyam/anaconda3/envs/py36/lib/python3.6/site-packages/ipykernel_launcher.py:44: UserWarning: Update your `Conv2D` call to the Keras 2 API: `Conv2D(filters=10, kernel_size=1, activation=\"relu\", padding=\"valid\")`\n"
     ]
    },
    {
     "name": "stdout",
     "output_type": "stream",
     "text": [
      "_________________________________________________________________\n",
      "Layer (type)                 Output Shape              Param #   \n",
      "=================================================================\n",
      "input_1 (InputLayer)         (None, 32, 32, 3)         0         \n",
      "_________________________________________________________________\n",
      "conv2d_1 (Conv2D)            (None, 32, 32, 96)        2688      \n",
      "_________________________________________________________________\n",
      "conv2d_2 (Conv2D)            (None, 32, 32, 96)        83040     \n",
      "_________________________________________________________________\n",
      "conv2d_3 (Conv2D)            (None, 16, 16, 96)        83040     \n",
      "_________________________________________________________________\n",
      "dropout_1 (Dropout)          (None, 16, 16, 96)        0         \n",
      "_________________________________________________________________\n",
      "conv2d_4 (Conv2D)            (None, 16, 16, 192)       166080    \n",
      "_________________________________________________________________\n",
      "conv2d_5 (Conv2D)            (None, 16, 16, 192)       331968    \n",
      "_________________________________________________________________\n",
      "conv2d_6 (Conv2D)            (None, 8, 8, 192)         331968    \n",
      "_________________________________________________________________\n",
      "dropout_2 (Dropout)          (None, 8, 8, 192)         0         \n",
      "_________________________________________________________________\n",
      "conv2d_7 (Conv2D)            (None, 8, 8, 192)         331968    \n",
      "_________________________________________________________________\n",
      "conv2d_8 (Conv2D)            (None, 8, 8, 192)         37056     \n",
      "_________________________________________________________________\n",
      "conv2d_9 (Conv2D)            (None, 8, 8, 10)          1930      \n",
      "_________________________________________________________________\n",
      "global_average_pooling2d_1 ( (None, 10)                0         \n",
      "_________________________________________________________________\n",
      "softmax_1 (Softmax)          (None, 10)                0         \n",
      "=================================================================\n",
      "Total params: 1,369,738\n",
      "Trainable params: 1,369,738\n",
      "Non-trainable params: 0\n",
      "_________________________________________________________________\n",
      "None\n"
     ]
    }
   ],
   "source": [
    "allcnn = AllCNN(result,y_train)"
   ]
  },
  {
   "cell_type": "code",
   "execution_count": 32,
   "metadata": {},
   "outputs": [],
   "source": [
    "allcnn.save_picture(\"../model_images/AllCNN.png\")"
   ]
  },
  {
   "cell_type": "code",
   "execution_count": 13,
   "metadata": {},
   "outputs": [
    {
     "data": {
      "text/plain": [
       "5"
      ]
     },
     "execution_count": 13,
     "metadata": {},
     "output_type": "execute_result"
    }
   ],
   "source": [
    "allcnn.predict(result[0])"
   ]
  },
  {
   "cell_type": "code",
   "execution_count": 14,
   "metadata": {},
   "outputs": [
    {
     "data": {
      "text/plain": [
       "array([0])"
      ]
     },
     "execution_count": 14,
     "metadata": {},
     "output_type": "execute_result"
    }
   ],
   "source": [
    "y_train[0]"
   ]
  }
 ],
 "metadata": {
  "kernelspec": {
   "display_name": "Python 3",
   "language": "python",
   "name": "python3"
  },
  "language_info": {
   "codemirror_mode": {
    "name": "ipython",
    "version": 3
   },
   "file_extension": ".py",
   "mimetype": "text/x-python",
   "name": "python",
   "nbconvert_exporter": "python",
   "pygments_lexer": "ipython3",
   "version": "3.6.5"
  }
 },
 "nbformat": 4,
 "nbformat_minor": 2
}
